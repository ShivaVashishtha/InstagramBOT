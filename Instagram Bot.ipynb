{
 "cells": [
  {
   "cell_type": "code",
   "execution_count": null,
   "metadata": {},
   "outputs": [],
   "source": [
    "from selenium import webdriver\n",
    "from time import sleep\n",
    "from selenium.webdriver.common.keys import Keys\n",
    "username=(input(\"Enter your Username: \"))\n",
    "password=(input(\"Enter your password: \"))\n",
    "hashtag=(input(\"Enter targeted Hashtag: \"))\n",
    "driver = webdriver.Chrome('D:\\chromedriver') #defining the path of webdriver\n",
    "driver.get(\"https://www.instagram.com/\")     #opening instagram by getting theurl\n",
    "login= driver.find_element_by_xpath(\"//span[@id='react-root']//p[@class='izU2O']/a\") #finding login button using its ID\n",
    "login.click() #clicking login button\n",
    "sleep(3)      #sleep time for 3 seconds\n",
    "#fill username and password \n",
    "user = driver.find_element_by_name(\"username\") #finding username input by name\n",
    "user.send_keys(username)                       #entering the username\n",
    "pswd = driver.find_element_by_name(\"password\") #finding password input by name\n",
    "pswd.send_keys(password)                       #entering password \n",
    "#after filling user and psw click on log in \n",
    "login_button = driver.find_element_by_xpath(\"//button[@class='_0mzm- sqdOP  L3NKy       ']\") #finding login button by its path\n",
    "login_button.click()           #clicking on login button\n",
    "sleep(3)\n",
    "driver.get(\"https://www.instagram.com/explore/tags/\" + hashtag + \"/\")\n",
    "sleep(2)\n",
    "for i in range(1,5):\n",
    "    driver.execute_script(\"window.scrollTo(0,document.body.scrollHeight);\")\n",
    "    sleep(3)\n",
    "    #searching for picture link\n",
    "    hrefs = driver.find_elements_by_tag_name('a')\n",
    "    images_links = []\n",
    "    for item in hrefs:\n",
    "        href = item.get_attribute('href')\n",
    "        if \"/p/\" not in href:\n",
    "            continue\n",
    "        images_links.append(href)\n",
    "\n",
    "    for images_link in images_links:\n",
    "        driver.get(images_link)\n",
    "        driver.execute_script(\"window.scrollTo(0,document.body.scrollHeight);\")\n",
    "        try:\n",
    "            driver.find_element_by_class_name(\"coreSpriteHeartOpen\").click()\n",
    "            sleep(2)\n",
    "        except Exception as e:\n",
    "            sleep(2)\n",
    "driver.close()"
   ]
  },
  {
   "cell_type": "code",
   "execution_count": null,
   "metadata": {},
   "outputs": [],
   "source": []
  }
 ],
 "metadata": {
  "kernelspec": {
   "display_name": "Python 3",
   "language": "python",
   "name": "python3"
  },
  "language_info": {
   "codemirror_mode": {
    "name": "ipython",
    "version": 3
   },
   "file_extension": ".py",
   "mimetype": "text/x-python",
   "name": "python",
   "nbconvert_exporter": "python",
   "pygments_lexer": "ipython3",
   "version": "3.7.1"
  }
 },
 "nbformat": 4,
 "nbformat_minor": 2
}
